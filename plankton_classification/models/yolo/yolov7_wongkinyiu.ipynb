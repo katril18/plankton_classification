{
 "cells": [
  {
   "cell_type": "code",
   "execution_count": 2,
   "id": "91ff2ebb-12cb-4121-b967-d523bea2f0b7",
   "metadata": {
    "scrolled": true
   },
   "outputs": [
    {
     "name": "stdout",
     "output_type": "stream",
     "text": [
      "Defaulting to user installation because normal site-packages is not writeable\n",
      "Requirement already satisfied: seaborn in /home/katril18/.local/lib/python3.10/site-packages (0.12.2)\n",
      "Requirement already satisfied: thop in /home/katril18/.local/lib/python3.10/site-packages (0.1.1.post2209072238)\n",
      "Requirement already satisfied: numpy!=1.24.0,>=1.17 in /home/katril18/.local/lib/python3.10/site-packages (from seaborn) (1.23.5)\n",
      "Requirement already satisfied: pandas>=0.25 in /home/katril18/.local/lib/python3.10/site-packages (from seaborn) (2.0.1)\n",
      "Requirement already satisfied: matplotlib!=3.6.1,>=3.1 in /home/katril18/.local/lib/python3.10/site-packages (from seaborn) (3.7.1)\n",
      "Requirement already satisfied: torch in /home/katril18/.local/lib/python3.10/site-packages (from thop) (2.1.0)\n",
      "Requirement already satisfied: contourpy>=1.0.1 in /home/katril18/.local/lib/python3.10/site-packages (from matplotlib!=3.6.1,>=3.1->seaborn) (1.1.1)\n",
      "Requirement already satisfied: cycler>=0.10 in /home/katril18/.local/lib/python3.10/site-packages (from matplotlib!=3.6.1,>=3.1->seaborn) (0.12.0)\n",
      "Requirement already satisfied: fonttools>=4.22.0 in /home/katril18/.local/lib/python3.10/site-packages (from matplotlib!=3.6.1,>=3.1->seaborn) (4.43.0)\n",
      "Requirement already satisfied: kiwisolver>=1.0.1 in /home/katril18/.local/lib/python3.10/site-packages (from matplotlib!=3.6.1,>=3.1->seaborn) (1.4.5)\n",
      "Requirement already satisfied: packaging>=20.0 in /usr/local/lib/python3.10/dist-packages (from matplotlib!=3.6.1,>=3.1->seaborn) (23.1)\n",
      "Requirement already satisfied: pillow>=6.2.0 in /home/katril18/.local/lib/python3.10/site-packages (from matplotlib!=3.6.1,>=3.1->seaborn) (9.5.0)\n",
      "Requirement already satisfied: pyparsing>=2.3.1 in /usr/local/lib/python3.10/dist-packages (from matplotlib!=3.6.1,>=3.1->seaborn) (3.1.1)\n",
      "Requirement already satisfied: python-dateutil>=2.7 in /usr/local/lib/python3.10/dist-packages (from matplotlib!=3.6.1,>=3.1->seaborn) (2.8.2)\n",
      "Requirement already satisfied: pytz>=2020.1 in /usr/local/lib/python3.10/dist-packages (from pandas>=0.25->seaborn) (2023.3)\n",
      "Requirement already satisfied: tzdata>=2022.1 in /home/katril18/.local/lib/python3.10/site-packages (from pandas>=0.25->seaborn) (2023.3)\n",
      "Requirement already satisfied: filelock in /home/katril18/.local/lib/python3.10/site-packages (from torch->thop) (3.12.4)\n",
      "Requirement already satisfied: typing-extensions in /usr/local/lib/python3.10/dist-packages (from torch->thop) (4.7.1)\n",
      "Requirement already satisfied: sympy in /home/katril18/.local/lib/python3.10/site-packages (from torch->thop) (1.12)\n",
      "Requirement already satisfied: networkx in /usr/local/lib/python3.10/dist-packages (from torch->thop) (2.8.8)\n",
      "Requirement already satisfied: jinja2 in /usr/local/lib/python3.10/dist-packages (from torch->thop) (3.1.2)\n",
      "Requirement already satisfied: fsspec in /usr/local/lib/python3.10/dist-packages (from torch->thop) (2023.6.0)\n",
      "Requirement already satisfied: nvidia-cuda-nvrtc-cu12==12.1.105 in /home/katril18/.local/lib/python3.10/site-packages (from torch->thop) (12.1.105)\n",
      "Requirement already satisfied: nvidia-cuda-runtime-cu12==12.1.105 in /home/katril18/.local/lib/python3.10/site-packages (from torch->thop) (12.1.105)\n",
      "Requirement already satisfied: nvidia-cuda-cupti-cu12==12.1.105 in /home/katril18/.local/lib/python3.10/site-packages (from torch->thop) (12.1.105)\n",
      "Requirement already satisfied: nvidia-cudnn-cu12==8.9.2.26 in /home/katril18/.local/lib/python3.10/site-packages (from torch->thop) (8.9.2.26)\n",
      "Requirement already satisfied: nvidia-cublas-cu12==12.1.3.1 in /home/katril18/.local/lib/python3.10/site-packages (from torch->thop) (12.1.3.1)\n",
      "Requirement already satisfied: nvidia-cufft-cu12==11.0.2.54 in /home/katril18/.local/lib/python3.10/site-packages (from torch->thop) (11.0.2.54)\n",
      "Requirement already satisfied: nvidia-curand-cu12==10.3.2.106 in /home/katril18/.local/lib/python3.10/site-packages (from torch->thop) (10.3.2.106)\n",
      "Requirement already satisfied: nvidia-cusolver-cu12==11.4.5.107 in /home/katril18/.local/lib/python3.10/site-packages (from torch->thop) (11.4.5.107)\n",
      "Requirement already satisfied: nvidia-cusparse-cu12==12.1.0.106 in /home/katril18/.local/lib/python3.10/site-packages (from torch->thop) (12.1.0.106)\n",
      "Requirement already satisfied: nvidia-nccl-cu12==2.18.1 in /home/katril18/.local/lib/python3.10/site-packages (from torch->thop) (2.18.1)\n",
      "Requirement already satisfied: nvidia-nvtx-cu12==12.1.105 in /home/katril18/.local/lib/python3.10/site-packages (from torch->thop) (12.1.105)\n",
      "Requirement already satisfied: triton==2.1.0 in /home/katril18/.local/lib/python3.10/site-packages (from torch->thop) (2.1.0)\n",
      "Requirement already satisfied: nvidia-nvjitlink-cu12 in /home/katril18/.local/lib/python3.10/site-packages (from nvidia-cusolver-cu12==11.4.5.107->torch->thop) (12.3.52)\n",
      "Requirement already satisfied: six>=1.5 in /usr/local/lib/python3.10/dist-packages (from python-dateutil>=2.7->matplotlib!=3.6.1,>=3.1->seaborn) (1.16.0)\n",
      "Requirement already satisfied: MarkupSafe>=2.0 in /usr/local/lib/python3.10/dist-packages (from jinja2->torch->thop) (2.1.3)\n",
      "Requirement already satisfied: mpmath>=0.19 in /home/katril18/.local/lib/python3.10/site-packages (from sympy->torch->thop) (1.3.0)\n"
     ]
    }
   ],
   "source": [
    "!pip install seaborn thop"
   ]
  },
  {
   "cell_type": "code",
   "execution_count": null,
   "id": "2df18e6d-6156-4fa4-938a-c851b4f835f9",
   "metadata": {},
   "outputs": [],
   "source": []
  }
 ],
 "metadata": {
  "kernelspec": {
   "display_name": "Python 3 (ipykernel)",
   "language": "python",
   "name": "python3"
  },
  "language_info": {
   "codemirror_mode": {
    "name": "ipython",
    "version": 3
   },
   "file_extension": ".py",
   "mimetype": "text/x-python",
   "name": "python",
   "nbconvert_exporter": "python",
   "pygments_lexer": "ipython3",
   "version": "3.10.12"
  }
 },
 "nbformat": 4,
 "nbformat_minor": 5
}
