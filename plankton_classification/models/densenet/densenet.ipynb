{
 "cells": [
  {
   "cell_type": "code",
   "execution_count": 1,
   "id": "34e2b032",
   "metadata": {},
   "outputs": [
    {
     "name": "stderr",
     "output_type": "stream",
     "text": [
      "2023-10-21 11:14:16.636533: I tensorflow/core/platform/cpu_feature_guard.cc:183] This TensorFlow binary is optimized to use available CPU instructions in performance-critical operations.\n",
      "To enable the following instructions: SSE3 SSE4.1 SSE4.2 AVX, in other operations, rebuild TensorFlow with the appropriate compiler flags.\n"
     ]
    }
   ],
   "source": [
    "import tensorflow as tf\n",
    "from tensorflow import keras\n",
    "import os\n",
    "from densenet_models import create_densenet121_model, create_densenet169_model, create_densenet201_model\n",
    "import wandb\n",
    "from wandb.keras import WandbCallback"
   ]
  },
  {
   "cell_type": "code",
   "execution_count": 18,
   "id": "20026c9f",
   "metadata": {},
   "outputs": [
    {
     "name": "stdout",
     "output_type": "stream",
     "text": [
      "Found 22320 files belonging to 15 classes.\n",
      "Found 2790 files belonging to 15 classes.\n"
     ]
    }
   ],
   "source": [
    "train_ds = keras.utils.image_dataset_from_directory(\n",
    "    directory=\"../../dataset/BaseTS/train\",\n",
    "    labels='inferred',\n",
    "    label_mode='categorical',\n",
    "    shuffle=True,\n",
    "    batch_size=32,\n",
    "    image_size=(224, 224)\n",
    "    )\n",
    "val_ds = keras.utils.image_dataset_from_directory(\n",
    "    directory=\"../../dataset/BaseTS/validation\",\n",
    "    labels='inferred',\n",
    "    label_mode='categorical',\n",
    "    shuffle=True,\n",
    "    batch_size=32,\n",
    "    image_size=(224, 224)\n",
    "    )"
   ]
  },
  {
   "cell_type": "markdown",
   "id": "acb6aaee",
   "metadata": {},
   "source": [
    "# DenseNet121"
   ]
  },
  {
   "cell_type": "code",
   "execution_count": null,
   "id": "bb0d91ee",
   "metadata": {},
   "outputs": [],
   "source": [
    "# initialize wandb\n",
    "wandb.init(project=\"DenseNet\", config={\"learning_rate\": 0.001, \"epochs\": 30, \"verbose\": 1,\"name\": \"DenseNet121\", \"architecture\": \"DenseNet121\"})\n",
    "\n",
    "# configs\n",
    "cfg = wandb.config\n",
    "\n",
    "# create the model\n",
    "model = create_densenet121_model(len(train_ds.class_names))"
   ]
  },
  {
   "cell_type": "code",
   "execution_count": 13,
   "id": "1b9cc928",
   "metadata": {},
   "outputs": [
    {
     "name": "stderr",
     "output_type": "stream",
     "text": [
      "\u001b[34m\u001b[1mwandb\u001b[0m: \u001b[33mWARNING\u001b[0m The save_model argument by default saves the model in the HDF5 format that cannot save custom objects like subclassed models and custom layers. This behavior will be deprecated in a future release in favor of the SavedModel format. Meanwhile, the HDF5 model is saved as W&B files and the SavedModel as W&B Artifacts.\n"
     ]
    }
   ],
   "source": [
    "# list of callbacks\n",
    "callbacks = [\n",
    "            WandbCallback(mode=\"min\", monitor=\"val_loss\", save_graph=True),\n",
    "            tf.keras.callbacks.ReduceLROnPlateau(monitor='val_loss', factor=0.1,\n",
    "                              patience=3, min_lr=0.00001),\n",
    "            tf.keras.callbacks.EarlyStopping(monitor='val_loss', patience=5),\n",
    "          ]"
   ]
  },
  {
   "cell_type": "code",
   "execution_count": null,
   "id": "bce7b0d4",
   "metadata": {},
   "outputs": [],
   "source": [
    "model.fit(train_ds, epochs=cfg.epochs, batch_size=32, verbose=cfg.verbose, validation_data=val_ds, callbacks=callbacks) # train the model"
   ]
  },
  {
   "cell_type": "code",
   "execution_count": null,
   "id": "06e3dbe1",
   "metadata": {},
   "outputs": [],
   "source": [
    "wandb.finish()"
   ]
  },
  {
   "cell_type": "markdown",
   "id": "918e5e34",
   "metadata": {},
   "source": [
    "# DenseNet169"
   ]
  },
  {
   "cell_type": "code",
   "execution_count": 11,
   "id": "1a74cb03",
   "metadata": {},
   "outputs": [
    {
     "name": "stderr",
     "output_type": "stream",
     "text": [
      "\u001b[34m\u001b[1mwandb\u001b[0m: Currently logged in as: \u001b[33mkatrina97\u001b[0m (\u001b[33mteam-fall23\u001b[0m). Use \u001b[1m`wandb login --relogin`\u001b[0m to force relogin\n"
     ]
    },
    {
     "data": {
      "text/html": [
       "Tracking run with wandb version 0.15.12"
      ],
      "text/plain": [
       "<IPython.core.display.HTML object>"
      ]
     },
     "metadata": {},
     "output_type": "display_data"
    },
    {
     "data": {
      "text/html": [
       "Run data is saved locally in <code>/home/katril18/DOC_prev_code/plankton_classification/models/densenet/wandb/run-20231021_113026-uwcwxsb6</code>"
      ],
      "text/plain": [
       "<IPython.core.display.HTML object>"
      ]
     },
     "metadata": {},
     "output_type": "display_data"
    },
    {
     "data": {
      "text/html": [
       "Syncing run <strong><a href='https://wandb.ai/team-fall23/DenseNet/runs/uwcwxsb6' target=\"_blank\">visionary-firefly-3</a></strong> to <a href='https://wandb.ai/team-fall23/DenseNet' target=\"_blank\">Weights & Biases</a> (<a href='https://wandb.me/run' target=\"_blank\">docs</a>)<br/>"
      ],
      "text/plain": [
       "<IPython.core.display.HTML object>"
      ]
     },
     "metadata": {},
     "output_type": "display_data"
    },
    {
     "data": {
      "text/html": [
       " View project at <a href='https://wandb.ai/team-fall23/DenseNet' target=\"_blank\">https://wandb.ai/team-fall23/DenseNet</a>"
      ],
      "text/plain": [
       "<IPython.core.display.HTML object>"
      ]
     },
     "metadata": {},
     "output_type": "display_data"
    },
    {
     "data": {
      "text/html": [
       " View run at <a href='https://wandb.ai/team-fall23/DenseNet/runs/uwcwxsb6' target=\"_blank\">https://wandb.ai/team-fall23/DenseNet/runs/uwcwxsb6</a>"
      ],
      "text/plain": [
       "<IPython.core.display.HTML object>"
      ]
     },
     "metadata": {},
     "output_type": "display_data"
    }
   ],
   "source": [
    "# initialize wandb\n",
    "wandb.init(project=\"DenseNet\", config={\"learning_rate\": 0.001, \"epochs\": 30, \"verbose\": 1,\"name\": \"DenseNet169\", \"architecture\": \"DenseNet169\"})\n",
    "\n",
    "# configs\n",
    "cfg = wandb.config\n",
    "\n",
    "# create the model\n",
    "model = create_densenet169_model(len(train_ds.class_names))"
   ]
  },
  {
   "cell_type": "code",
   "execution_count": 14,
   "id": "e74be625",
   "metadata": {},
   "outputs": [
    {
     "name": "stdout",
     "output_type": "stream",
     "text": [
      "Epoch 1/30\n"
     ]
    },
    {
     "name": "stderr",
     "output_type": "stream",
     "text": [
      "2023-10-21 11:30:53.341211: I tensorflow/compiler/xla/stream_executor/cuda/cuda_dnn.cc:432] Loaded cuDNN version 8904\n",
      "2023-10-21 11:30:55.422542: I tensorflow/compiler/xla/service/service.cc:168] XLA service 0x562c3dfc64c0 initialized for platform CUDA (this does not guarantee that XLA will be used). Devices:\n",
      "2023-10-21 11:30:55.422585: I tensorflow/compiler/xla/service/service.cc:176]   StreamExecutor device (0): Tesla V100-SXM3-32GB, Compute Capability 7.0\n",
      "2023-10-21 11:30:55.445291: I tensorflow/compiler/mlir/tensorflow/utils/dump_mlir_util.cc:255] disabling MLIR crash reproducer, set env var `MLIR_CRASH_REPRODUCER_DIRECTORY` to enable.\n",
      "2023-10-21 11:30:55.691461: I ./tensorflow/compiler/jit/device_compiler.h:186] Compiled cluster using XLA!  This line is logged at most once for the lifetime of the process.\n"
     ]
    },
    {
     "name": "stdout",
     "output_type": "stream",
     "text": [
      "698/698 [==============================] - ETA: 0s - loss: 1.2228 - accuracy: 0.6147INFO:tensorflow:Assets written to: /home/katril18/DOC_prev_code/plankton_classification/models/densenet/wandb/run-20231021_113026-uwcwxsb6/files/model-best/assets\n"
     ]
    },
    {
     "name": "stderr",
     "output_type": "stream",
     "text": [
      "INFO:tensorflow:Assets written to: /home/katril18/DOC_prev_code/plankton_classification/models/densenet/wandb/run-20231021_113026-uwcwxsb6/files/model-best/assets\n",
      "\u001b[34m\u001b[1mwandb\u001b[0m: Adding directory to artifact (/home/katril18/DOC_prev_code/plankton_classification/models/densenet/wandb/run-20231021_113026-uwcwxsb6/files/model-best)... Done. 0.3s\n"
     ]
    },
    {
     "name": "stdout",
     "output_type": "stream",
     "text": [
      "698/698 [==============================] - 91s 115ms/step - loss: 1.2228 - accuracy: 0.6147 - val_loss: 0.7699 - val_accuracy: 0.7341 - lr: 0.0010\n",
      "Epoch 2/30\n",
      "697/698 [============================>.] - ETA: 0s - loss: 0.8814 - accuracy: 0.6937INFO:tensorflow:Assets written to: /home/katril18/DOC_prev_code/plankton_classification/models/densenet/wandb/run-20231021_113026-uwcwxsb6/files/model-best/assets\n"
     ]
    },
    {
     "name": "stderr",
     "output_type": "stream",
     "text": [
      "INFO:tensorflow:Assets written to: /home/katril18/DOC_prev_code/plankton_classification/models/densenet/wandb/run-20231021_113026-uwcwxsb6/files/model-best/assets\n",
      "\u001b[34m\u001b[1mwandb\u001b[0m: Adding directory to artifact (/home/katril18/DOC_prev_code/plankton_classification/models/densenet/wandb/run-20231021_113026-uwcwxsb6/files/model-best)... Done. 0.3s\n"
     ]
    },
    {
     "name": "stdout",
     "output_type": "stream",
     "text": [
      "698/698 [==============================] - 78s 112ms/step - loss: 0.8819 - accuracy: 0.6935 - val_loss: 0.6973 - val_accuracy: 0.7563 - lr: 0.0010\n",
      "Epoch 3/30\n",
      "697/698 [============================>.] - ETA: 0s - loss: 0.8111 - accuracy: 0.7196INFO:tensorflow:Assets written to: /home/katril18/DOC_prev_code/plankton_classification/models/densenet/wandb/run-20231021_113026-uwcwxsb6/files/model-best/assets\n"
     ]
    },
    {
     "name": "stderr",
     "output_type": "stream",
     "text": [
      "INFO:tensorflow:Assets written to: /home/katril18/DOC_prev_code/plankton_classification/models/densenet/wandb/run-20231021_113026-uwcwxsb6/files/model-best/assets\n",
      "\u001b[34m\u001b[1mwandb\u001b[0m: Adding directory to artifact (/home/katril18/DOC_prev_code/plankton_classification/models/densenet/wandb/run-20231021_113026-uwcwxsb6/files/model-best)... Done. 0.3s\n"
     ]
    },
    {
     "name": "stdout",
     "output_type": "stream",
     "text": [
      "698/698 [==============================] - 78s 111ms/step - loss: 0.8110 - accuracy: 0.7197 - val_loss: 0.6117 - val_accuracy: 0.7982 - lr: 0.0010\n",
      "Epoch 4/30\n",
      "698/698 [==============================] - 42s 60ms/step - loss: 0.7764 - accuracy: 0.7310 - val_loss: 0.6175 - val_accuracy: 0.7806 - lr: 0.0010\n",
      "Epoch 5/30\n",
      "697/698 [============================>.] - ETA: 0s - loss: 0.7423 - accuracy: 0.7457INFO:tensorflow:Assets written to: /home/katril18/DOC_prev_code/plankton_classification/models/densenet/wandb/run-20231021_113026-uwcwxsb6/files/model-best/assets\n"
     ]
    },
    {
     "name": "stderr",
     "output_type": "stream",
     "text": [
      "INFO:tensorflow:Assets written to: /home/katril18/DOC_prev_code/plankton_classification/models/densenet/wandb/run-20231021_113026-uwcwxsb6/files/model-best/assets\n",
      "\u001b[34m\u001b[1mwandb\u001b[0m: Adding directory to artifact (/home/katril18/DOC_prev_code/plankton_classification/models/densenet/wandb/run-20231021_113026-uwcwxsb6/files/model-best)... Done. 0.3s\n"
     ]
    },
    {
     "name": "stdout",
     "output_type": "stream",
     "text": [
      "698/698 [==============================] - 77s 110ms/step - loss: 0.7425 - accuracy: 0.7456 - val_loss: 0.5854 - val_accuracy: 0.8043 - lr: 0.0010\n",
      "Epoch 6/30\n",
      "697/698 [============================>.] - ETA: 0s - loss: 0.7235 - accuracy: 0.7510INFO:tensorflow:Assets written to: /home/katril18/DOC_prev_code/plankton_classification/models/densenet/wandb/run-20231021_113026-uwcwxsb6/files/model-best/assets\n"
     ]
    },
    {
     "name": "stderr",
     "output_type": "stream",
     "text": [
      "INFO:tensorflow:Assets written to: /home/katril18/DOC_prev_code/plankton_classification/models/densenet/wandb/run-20231021_113026-uwcwxsb6/files/model-best/assets\n",
      "\u001b[34m\u001b[1mwandb\u001b[0m: Adding directory to artifact (/home/katril18/DOC_prev_code/plankton_classification/models/densenet/wandb/run-20231021_113026-uwcwxsb6/files/model-best)... Done. 0.4s\n"
     ]
    },
    {
     "name": "stdout",
     "output_type": "stream",
     "text": [
      "698/698 [==============================] - 76s 109ms/step - loss: 0.7235 - accuracy: 0.7511 - val_loss: 0.5822 - val_accuracy: 0.8118 - lr: 0.0010\n",
      "Epoch 7/30\n",
      "697/698 [============================>.] - ETA: 0s - loss: 0.7073 - accuracy: 0.7551INFO:tensorflow:Assets written to: /home/katril18/DOC_prev_code/plankton_classification/models/densenet/wandb/run-20231021_113026-uwcwxsb6/files/model-best/assets\n"
     ]
    },
    {
     "name": "stderr",
     "output_type": "stream",
     "text": [
      "INFO:tensorflow:Assets written to: /home/katril18/DOC_prev_code/plankton_classification/models/densenet/wandb/run-20231021_113026-uwcwxsb6/files/model-best/assets\n",
      "\u001b[34m\u001b[1mwandb\u001b[0m: Adding directory to artifact (/home/katril18/DOC_prev_code/plankton_classification/models/densenet/wandb/run-20231021_113026-uwcwxsb6/files/model-best)... Done. 0.3s\n"
     ]
    },
    {
     "name": "stdout",
     "output_type": "stream",
     "text": [
      "698/698 [==============================] - 78s 112ms/step - loss: 0.7076 - accuracy: 0.7551 - val_loss: 0.5500 - val_accuracy: 0.8240 - lr: 0.0010\n",
      "Epoch 8/30\n",
      "697/698 [============================>.] - ETA: 0s - loss: 0.6746 - accuracy: 0.7665INFO:tensorflow:Assets written to: /home/katril18/DOC_prev_code/plankton_classification/models/densenet/wandb/run-20231021_113026-uwcwxsb6/files/model-best/assets\n"
     ]
    },
    {
     "name": "stderr",
     "output_type": "stream",
     "text": [
      "INFO:tensorflow:Assets written to: /home/katril18/DOC_prev_code/plankton_classification/models/densenet/wandb/run-20231021_113026-uwcwxsb6/files/model-best/assets\n",
      "\u001b[34m\u001b[1mwandb\u001b[0m: Adding directory to artifact (/home/katril18/DOC_prev_code/plankton_classification/models/densenet/wandb/run-20231021_113026-uwcwxsb6/files/model-best)... Done. 0.3s\n"
     ]
    },
    {
     "name": "stdout",
     "output_type": "stream",
     "text": [
      "698/698 [==============================] - 77s 110ms/step - loss: 0.6745 - accuracy: 0.7665 - val_loss: 0.5436 - val_accuracy: 0.8204 - lr: 0.0010\n",
      "Epoch 9/30\n",
      "698/698 [==============================] - 42s 60ms/step - loss: 0.6642 - accuracy: 0.7705 - val_loss: 0.5487 - val_accuracy: 0.8172 - lr: 0.0010\n",
      "Epoch 10/30\n",
      "697/698 [============================>.] - ETA: 0s - loss: 0.6502 - accuracy: 0.7756INFO:tensorflow:Assets written to: /home/katril18/DOC_prev_code/plankton_classification/models/densenet/wandb/run-20231021_113026-uwcwxsb6/files/model-best/assets\n"
     ]
    },
    {
     "name": "stderr",
     "output_type": "stream",
     "text": [
      "INFO:tensorflow:Assets written to: /home/katril18/DOC_prev_code/plankton_classification/models/densenet/wandb/run-20231021_113026-uwcwxsb6/files/model-best/assets\n",
      "\u001b[34m\u001b[1mwandb\u001b[0m: Adding directory to artifact (/home/katril18/DOC_prev_code/plankton_classification/models/densenet/wandb/run-20231021_113026-uwcwxsb6/files/model-best)... Done. 0.3s\n"
     ]
    },
    {
     "name": "stdout",
     "output_type": "stream",
     "text": [
      "698/698 [==============================] - 78s 111ms/step - loss: 0.6502 - accuracy: 0.7756 - val_loss: 0.5066 - val_accuracy: 0.8373 - lr: 0.0010\n",
      "Epoch 11/30\n",
      "698/698 [==============================] - 41s 58ms/step - loss: 0.6253 - accuracy: 0.7822 - val_loss: 0.5527 - val_accuracy: 0.8409 - lr: 0.0010\n",
      "Epoch 12/30\n",
      "697/698 [============================>.] - ETA: 0s - loss: 0.6139 - accuracy: 0.7895INFO:tensorflow:Assets written to: /home/katril18/DOC_prev_code/plankton_classification/models/densenet/wandb/run-20231021_113026-uwcwxsb6/files/model-best/assets\n"
     ]
    },
    {
     "name": "stderr",
     "output_type": "stream",
     "text": [
      "INFO:tensorflow:Assets written to: /home/katril18/DOC_prev_code/plankton_classification/models/densenet/wandb/run-20231021_113026-uwcwxsb6/files/model-best/assets\n",
      "\u001b[34m\u001b[1mwandb\u001b[0m: Adding directory to artifact (/home/katril18/DOC_prev_code/plankton_classification/models/densenet/wandb/run-20231021_113026-uwcwxsb6/files/model-best)... Done. 0.3s\n"
     ]
    },
    {
     "name": "stdout",
     "output_type": "stream",
     "text": [
      "698/698 [==============================] - 77s 111ms/step - loss: 0.6140 - accuracy: 0.7894 - val_loss: 0.4956 - val_accuracy: 0.8380 - lr: 0.0010\n",
      "Epoch 13/30\n",
      "697/698 [============================>.] - ETA: 0s - loss: 0.5937 - accuracy: 0.7947INFO:tensorflow:Assets written to: /home/katril18/DOC_prev_code/plankton_classification/models/densenet/wandb/run-20231021_113026-uwcwxsb6/files/model-best/assets\n"
     ]
    },
    {
     "name": "stderr",
     "output_type": "stream",
     "text": [
      "INFO:tensorflow:Assets written to: /home/katril18/DOC_prev_code/plankton_classification/models/densenet/wandb/run-20231021_113026-uwcwxsb6/files/model-best/assets\n",
      "\u001b[34m\u001b[1mwandb\u001b[0m: Adding directory to artifact (/home/katril18/DOC_prev_code/plankton_classification/models/densenet/wandb/run-20231021_113026-uwcwxsb6/files/model-best)... Done. 0.3s\n"
     ]
    },
    {
     "name": "stdout",
     "output_type": "stream",
     "text": [
      "698/698 [==============================] - 77s 110ms/step - loss: 0.5936 - accuracy: 0.7948 - val_loss: 0.4881 - val_accuracy: 0.8409 - lr: 0.0010\n",
      "Epoch 14/30\n",
      "698/698 [==============================] - 41s 59ms/step - loss: 0.5873 - accuracy: 0.7971 - val_loss: 0.5001 - val_accuracy: 0.8355 - lr: 0.0010\n",
      "Epoch 15/30\n",
      "697/698 [============================>.] - ETA: 0s - loss: 0.5782 - accuracy: 0.8015INFO:tensorflow:Assets written to: /home/katril18/DOC_prev_code/plankton_classification/models/densenet/wandb/run-20231021_113026-uwcwxsb6/files/model-best/assets\n"
     ]
    },
    {
     "name": "stderr",
     "output_type": "stream",
     "text": [
      "INFO:tensorflow:Assets written to: /home/katril18/DOC_prev_code/plankton_classification/models/densenet/wandb/run-20231021_113026-uwcwxsb6/files/model-best/assets\n",
      "\u001b[34m\u001b[1mwandb\u001b[0m: Adding directory to artifact (/home/katril18/DOC_prev_code/plankton_classification/models/densenet/wandb/run-20231021_113026-uwcwxsb6/files/model-best)... Done. 0.3s\n"
     ]
    },
    {
     "name": "stdout",
     "output_type": "stream",
     "text": [
      "698/698 [==============================] - 78s 111ms/step - loss: 0.5785 - accuracy: 0.8015 - val_loss: 0.4608 - val_accuracy: 0.8459 - lr: 0.0010\n",
      "Epoch 16/30\n",
      "698/698 [==============================] - 41s 58ms/step - loss: 0.5541 - accuracy: 0.8104 - val_loss: 0.4854 - val_accuracy: 0.8369 - lr: 0.0010\n",
      "Epoch 17/30\n",
      "698/698 [==============================] - 42s 59ms/step - loss: 0.5635 - accuracy: 0.8082 - val_loss: 0.4689 - val_accuracy: 0.8448 - lr: 0.0010\n",
      "Epoch 18/30\n",
      "698/698 [==============================] - 41s 59ms/step - loss: 0.5401 - accuracy: 0.8109 - val_loss: 0.4740 - val_accuracy: 0.8405 - lr: 0.0010\n",
      "Epoch 19/30\n",
      "697/698 [============================>.] - ETA: 0s - loss: 0.5054 - accuracy: 0.8229INFO:tensorflow:Assets written to: /home/katril18/DOC_prev_code/plankton_classification/models/densenet/wandb/run-20231021_113026-uwcwxsb6/files/model-best/assets\n"
     ]
    },
    {
     "name": "stderr",
     "output_type": "stream",
     "text": [
      "INFO:tensorflow:Assets written to: /home/katril18/DOC_prev_code/plankton_classification/models/densenet/wandb/run-20231021_113026-uwcwxsb6/files/model-best/assets\n",
      "\u001b[34m\u001b[1mwandb\u001b[0m: Adding directory to artifact (/home/katril18/DOC_prev_code/plankton_classification/models/densenet/wandb/run-20231021_113026-uwcwxsb6/files/model-best)... Done. 0.3s\n"
     ]
    },
    {
     "name": "stdout",
     "output_type": "stream",
     "text": [
      "698/698 [==============================] - 76s 108ms/step - loss: 0.5056 - accuracy: 0.8229 - val_loss: 0.4334 - val_accuracy: 0.8602 - lr: 1.0000e-04\n",
      "Epoch 20/30\n",
      "697/698 [============================>.] - ETA: 0s - loss: 0.4915 - accuracy: 0.8282INFO:tensorflow:Assets written to: /home/katril18/DOC_prev_code/plankton_classification/models/densenet/wandb/run-20231021_113026-uwcwxsb6/files/model-best/assets\n"
     ]
    },
    {
     "name": "stderr",
     "output_type": "stream",
     "text": [
      "INFO:tensorflow:Assets written to: /home/katril18/DOC_prev_code/plankton_classification/models/densenet/wandb/run-20231021_113026-uwcwxsb6/files/model-best/assets\n",
      "\u001b[34m\u001b[1mwandb\u001b[0m: Adding directory to artifact (/home/katril18/DOC_prev_code/plankton_classification/models/densenet/wandb/run-20231021_113026-uwcwxsb6/files/model-best)... Done. 0.3s\n"
     ]
    },
    {
     "name": "stdout",
     "output_type": "stream",
     "text": [
      "698/698 [==============================] - 76s 109ms/step - loss: 0.4913 - accuracy: 0.8283 - val_loss: 0.4311 - val_accuracy: 0.8591 - lr: 1.0000e-04\n",
      "Epoch 21/30\n",
      "697/698 [============================>.] - ETA: 0s - loss: 0.4793 - accuracy: 0.8322INFO:tensorflow:Assets written to: /home/katril18/DOC_prev_code/plankton_classification/models/densenet/wandb/run-20231021_113026-uwcwxsb6/files/model-best/assets\n"
     ]
    },
    {
     "name": "stderr",
     "output_type": "stream",
     "text": [
      "INFO:tensorflow:Assets written to: /home/katril18/DOC_prev_code/plankton_classification/models/densenet/wandb/run-20231021_113026-uwcwxsb6/files/model-best/assets\n",
      "\u001b[34m\u001b[1mwandb\u001b[0m: Adding directory to artifact (/home/katril18/DOC_prev_code/plankton_classification/models/densenet/wandb/run-20231021_113026-uwcwxsb6/files/model-best)... Done. 0.3s\n"
     ]
    },
    {
     "name": "stdout",
     "output_type": "stream",
     "text": [
      "698/698 [==============================] - 79s 114ms/step - loss: 0.4805 - accuracy: 0.8319 - val_loss: 0.4295 - val_accuracy: 0.8581 - lr: 1.0000e-04\n",
      "Epoch 22/30\n",
      "697/698 [============================>.] - ETA: 0s - loss: 0.4666 - accuracy: 0.8403INFO:tensorflow:Assets written to: /home/katril18/DOC_prev_code/plankton_classification/models/densenet/wandb/run-20231021_113026-uwcwxsb6/files/model-best/assets\n"
     ]
    },
    {
     "name": "stderr",
     "output_type": "stream",
     "text": [
      "INFO:tensorflow:Assets written to: /home/katril18/DOC_prev_code/plankton_classification/models/densenet/wandb/run-20231021_113026-uwcwxsb6/files/model-best/assets\n",
      "\u001b[34m\u001b[1mwandb\u001b[0m: Adding directory to artifact (/home/katril18/DOC_prev_code/plankton_classification/models/densenet/wandb/run-20231021_113026-uwcwxsb6/files/model-best)... Done. 0.3s\n"
     ]
    },
    {
     "name": "stdout",
     "output_type": "stream",
     "text": [
      "698/698 [==============================] - 76s 109ms/step - loss: 0.4672 - accuracy: 0.8400 - val_loss: 0.4221 - val_accuracy: 0.8599 - lr: 1.0000e-04\n",
      "Epoch 23/30\n",
      "697/698 [============================>.] - ETA: 0s - loss: 0.4680 - accuracy: 0.8382INFO:tensorflow:Assets written to: /home/katril18/DOC_prev_code/plankton_classification/models/densenet/wandb/run-20231021_113026-uwcwxsb6/files/model-best/assets\n"
     ]
    },
    {
     "name": "stderr",
     "output_type": "stream",
     "text": [
      "INFO:tensorflow:Assets written to: /home/katril18/DOC_prev_code/plankton_classification/models/densenet/wandb/run-20231021_113026-uwcwxsb6/files/model-best/assets\n",
      "\u001b[34m\u001b[1mwandb\u001b[0m: Adding directory to artifact (/home/katril18/DOC_prev_code/plankton_classification/models/densenet/wandb/run-20231021_113026-uwcwxsb6/files/model-best)... Done. 0.3s\n"
     ]
    },
    {
     "name": "stdout",
     "output_type": "stream",
     "text": [
      "698/698 [==============================] - 77s 111ms/step - loss: 0.4682 - accuracy: 0.8382 - val_loss: 0.4189 - val_accuracy: 0.8631 - lr: 1.0000e-04\n",
      "Epoch 24/30\n",
      "697/698 [============================>.] - ETA: 0s - loss: 0.4523 - accuracy: 0.8421INFO:tensorflow:Assets written to: /home/katril18/DOC_prev_code/plankton_classification/models/densenet/wandb/run-20231021_113026-uwcwxsb6/files/model-best/assets\n"
     ]
    },
    {
     "name": "stderr",
     "output_type": "stream",
     "text": [
      "INFO:tensorflow:Assets written to: /home/katril18/DOC_prev_code/plankton_classification/models/densenet/wandb/run-20231021_113026-uwcwxsb6/files/model-best/assets\n",
      "\u001b[34m\u001b[1mwandb\u001b[0m: Adding directory to artifact (/home/katril18/DOC_prev_code/plankton_classification/models/densenet/wandb/run-20231021_113026-uwcwxsb6/files/model-best)... Done. 0.3s\n"
     ]
    },
    {
     "name": "stdout",
     "output_type": "stream",
     "text": [
      "698/698 [==============================] - 77s 110ms/step - loss: 0.4522 - accuracy: 0.8422 - val_loss: 0.4161 - val_accuracy: 0.8663 - lr: 1.0000e-04\n",
      "Epoch 25/30\n",
      "697/698 [============================>.] - ETA: 0s - loss: 0.4502 - accuracy: 0.8435INFO:tensorflow:Assets written to: /home/katril18/DOC_prev_code/plankton_classification/models/densenet/wandb/run-20231021_113026-uwcwxsb6/files/model-best/assets\n"
     ]
    },
    {
     "name": "stderr",
     "output_type": "stream",
     "text": [
      "INFO:tensorflow:Assets written to: /home/katril18/DOC_prev_code/plankton_classification/models/densenet/wandb/run-20231021_113026-uwcwxsb6/files/model-best/assets\n",
      "\u001b[34m\u001b[1mwandb\u001b[0m: Adding directory to artifact (/home/katril18/DOC_prev_code/plankton_classification/models/densenet/wandb/run-20231021_113026-uwcwxsb6/files/model-best)... Done. 0.2s\n"
     ]
    },
    {
     "name": "stdout",
     "output_type": "stream",
     "text": [
      "698/698 [==============================] - 79s 112ms/step - loss: 0.4503 - accuracy: 0.8435 - val_loss: 0.4131 - val_accuracy: 0.8674 - lr: 1.0000e-04\n",
      "Epoch 26/30\n",
      "697/698 [============================>.] - ETA: 0s - loss: 0.4503 - accuracy: 0.8422INFO:tensorflow:Assets written to: /home/katril18/DOC_prev_code/plankton_classification/models/densenet/wandb/run-20231021_113026-uwcwxsb6/files/model-best/assets\n"
     ]
    },
    {
     "name": "stderr",
     "output_type": "stream",
     "text": [
      "INFO:tensorflow:Assets written to: /home/katril18/DOC_prev_code/plankton_classification/models/densenet/wandb/run-20231021_113026-uwcwxsb6/files/model-best/assets\n",
      "\u001b[34m\u001b[1mwandb\u001b[0m: Adding directory to artifact (/home/katril18/DOC_prev_code/plankton_classification/models/densenet/wandb/run-20231021_113026-uwcwxsb6/files/model-best)... Done. 0.3s\n"
     ]
    },
    {
     "name": "stdout",
     "output_type": "stream",
     "text": [
      "698/698 [==============================] - 76s 109ms/step - loss: 0.4503 - accuracy: 0.8422 - val_loss: 0.4108 - val_accuracy: 0.8667 - lr: 1.0000e-04\n",
      "Epoch 27/30\n",
      "698/698 [==============================] - 42s 60ms/step - loss: 0.4445 - accuracy: 0.8444 - val_loss: 0.4128 - val_accuracy: 0.8659 - lr: 1.0000e-04\n",
      "Epoch 28/30\n",
      "698/698 [==============================] - 42s 60ms/step - loss: 0.4445 - accuracy: 0.8414 - val_loss: 0.4109 - val_accuracy: 0.8667 - lr: 1.0000e-04\n",
      "Epoch 29/30\n",
      "697/698 [============================>.] - ETA: 0s - loss: 0.4359 - accuracy: 0.8457INFO:tensorflow:Assets written to: /home/katril18/DOC_prev_code/plankton_classification/models/densenet/wandb/run-20231021_113026-uwcwxsb6/files/model-best/assets\n"
     ]
    },
    {
     "name": "stderr",
     "output_type": "stream",
     "text": [
      "INFO:tensorflow:Assets written to: /home/katril18/DOC_prev_code/plankton_classification/models/densenet/wandb/run-20231021_113026-uwcwxsb6/files/model-best/assets\n",
      "\u001b[34m\u001b[1mwandb\u001b[0m: Adding directory to artifact (/home/katril18/DOC_prev_code/plankton_classification/models/densenet/wandb/run-20231021_113026-uwcwxsb6/files/model-best)... Done. 0.4s\n"
     ]
    },
    {
     "name": "stdout",
     "output_type": "stream",
     "text": [
      "698/698 [==============================] - 76s 109ms/step - loss: 0.4358 - accuracy: 0.8457 - val_loss: 0.4096 - val_accuracy: 0.8681 - lr: 1.0000e-04\n",
      "Epoch 30/30\n",
      "698/698 [==============================] - 41s 59ms/step - loss: 0.4316 - accuracy: 0.8498 - val_loss: 0.4098 - val_accuracy: 0.8656 - lr: 1.0000e-04\n"
     ]
    },
    {
     "data": {
      "text/plain": [
       "<keras.callbacks.History at 0x7f5a074244c0>"
      ]
     },
     "execution_count": 14,
     "metadata": {},
     "output_type": "execute_result"
    }
   ],
   "source": [
    "model.fit(train_ds, epochs=cfg.epochs, batch_size=32, verbose=cfg.verbose, validation_data=val_ds, callbacks=callbacks) # train the model"
   ]
  },
  {
   "cell_type": "code",
   "execution_count": 15,
   "id": "194c18ae",
   "metadata": {},
   "outputs": [
    {
     "data": {
      "text/html": [
       "Waiting for W&B process to finish... <strong style=\"color:green\">(success).</strong>"
      ],
      "text/plain": [
       "<IPython.core.display.HTML object>"
      ]
     },
     "metadata": {},
     "output_type": "display_data"
    },
    {
     "data": {
      "text/html": [
       "<style>\n",
       "    table.wandb td:nth-child(1) { padding: 0 10px; text-align: left ; width: auto;} td:nth-child(2) {text-align: left ; width: 100%}\n",
       "    .wandb-row { display: flex; flex-direction: row; flex-wrap: wrap; justify-content: flex-start; width: 100% }\n",
       "    .wandb-col { display: flex; flex-direction: column; flex-basis: 100%; flex: 1; padding: 10px; }\n",
       "    </style>\n",
       "<div class=\"wandb-row\"><div class=\"wandb-col\"><h3>Run history:</h3><br/><table class=\"wandb\"><tr><td>accuracy</td><td>▁▃▄▄▅▅▅▆▆▆▆▆▆▆▇▇▇▇▇▇▇█████████</td></tr><tr><td>epoch</td><td>▁▁▁▂▂▂▂▃▃▃▃▄▄▄▄▅▅▅▅▆▆▆▆▇▇▇▇███</td></tr><tr><td>loss</td><td>█▅▄▄▄▄▃▃▃▃▃▃▂▂▂▂▂▂▂▂▁▁▁▁▁▁▁▁▁▁</td></tr><tr><td>val_accuracy</td><td>▁▂▄▃▅▅▆▆▅▆▇▆▇▆▇▆▇▇██▇█████████</td></tr><tr><td>val_loss</td><td>█▇▅▅▄▄▄▄▄▃▄▃▃▃▂▂▂▂▁▁▁▁▁▁▁▁▁▁▁▁</td></tr></table><br/></div><div class=\"wandb-col\"><h3>Run summary:</h3><br/><table class=\"wandb\"><tr><td>accuracy</td><td>0.84978</td></tr><tr><td>best_epoch</td><td>28</td></tr><tr><td>best_val_loss</td><td>0.40965</td></tr><tr><td>epoch</td><td>29</td></tr><tr><td>loss</td><td>0.4316</td></tr><tr><td>val_accuracy</td><td>0.86559</td></tr><tr><td>val_loss</td><td>0.40977</td></tr></table><br/></div></div>"
      ],
      "text/plain": [
       "<IPython.core.display.HTML object>"
      ]
     },
     "metadata": {},
     "output_type": "display_data"
    },
    {
     "data": {
      "text/html": [
       " View run <strong style=\"color:#cdcd00\">visionary-firefly-3</strong> at: <a href='https://wandb.ai/team-fall23/DenseNet/runs/uwcwxsb6' target=\"_blank\">https://wandb.ai/team-fall23/DenseNet/runs/uwcwxsb6</a><br/> View job at <a href='https://wandb.ai/team-fall23/DenseNet/jobs/QXJ0aWZhY3RDb2xsZWN0aW9uOjEwNTczMDc1OA==/version_details/v1' target=\"_blank\">https://wandb.ai/team-fall23/DenseNet/jobs/QXJ0aWZhY3RDb2xsZWN0aW9uOjEwNTczMDc1OA==/version_details/v1</a><br/>Synced 5 W&B file(s), 1 media file(s), 102 artifact file(s) and 1 other file(s)"
      ],
      "text/plain": [
       "<IPython.core.display.HTML object>"
      ]
     },
     "metadata": {},
     "output_type": "display_data"
    },
    {
     "data": {
      "text/html": [
       "Find logs at: <code>./wandb/run-20231021_113026-uwcwxsb6/logs</code>"
      ],
      "text/plain": [
       "<IPython.core.display.HTML object>"
      ]
     },
     "metadata": {},
     "output_type": "display_data"
    }
   ],
   "source": [
    "wandb.finish()"
   ]
  },
  {
   "cell_type": "markdown",
   "id": "38bc83cb",
   "metadata": {},
   "source": [
    "# DenseNet201"
   ]
  },
  {
   "cell_type": "code",
   "execution_count": 3,
   "id": "fe7fd420",
   "metadata": {},
   "outputs": [
    {
     "data": {
      "text/html": [
       "Tracking run with wandb version 0.14.0"
      ],
      "text/plain": [
       "<IPython.core.display.HTML object>"
      ]
     },
     "metadata": {},
     "output_type": "display_data"
    },
    {
     "data": {
      "text/html": [
       "Run data is saved locally in <code>c:\\Users\\Andreas\\plankton_classification\\models\\densenet\\wandb\\run-20230318_122037-02xdd82k</code>"
      ],
      "text/plain": [
       "<IPython.core.display.HTML object>"
      ]
     },
     "metadata": {},
     "output_type": "display_data"
    },
    {
     "data": {
      "text/html": [
       "Syncing run <strong><a href='https://wandb.ai/nubs/DenseNet/runs/02xdd82k' target=\"_blank\">light-feather-9</a></strong> to <a href='https://wandb.ai/nubs/DenseNet' target=\"_blank\">Weights & Biases</a> (<a href='https://wandb.me/run' target=\"_blank\">docs</a>)<br/>"
      ],
      "text/plain": [
       "<IPython.core.display.HTML object>"
      ]
     },
     "metadata": {},
     "output_type": "display_data"
    },
    {
     "data": {
      "text/html": [
       " View project at <a href='https://wandb.ai/nubs/DenseNet' target=\"_blank\">https://wandb.ai/nubs/DenseNet</a>"
      ],
      "text/plain": [
       "<IPython.core.display.HTML object>"
      ]
     },
     "metadata": {},
     "output_type": "display_data"
    },
    {
     "data": {
      "text/html": [
       " View run at <a href='https://wandb.ai/nubs/DenseNet/runs/02xdd82k' target=\"_blank\">https://wandb.ai/nubs/DenseNet/runs/02xdd82k</a>"
      ],
      "text/plain": [
       "<IPython.core.display.HTML object>"
      ]
     },
     "metadata": {},
     "output_type": "display_data"
    }
   ],
   "source": [
    "# initialize wandb\n",
    "wandb.init(project=\"DenseNet\", config={\"learning_rate\": 0.001, \"epochs\": 1, \"verbose\": 1,\"name\": \"DenseNet201\", \"architecture\": \"DenseNet201\"})\n",
    "\n",
    "# configs\n",
    "cfg = wandb.config\n",
    "\n",
    "# create the model\n",
    "model = create_densenet201_model(len(train_ds.class_names))"
   ]
  },
  {
   "cell_type": "code",
   "execution_count": 5,
   "id": "33945f61",
   "metadata": {},
   "outputs": [
    {
     "name": "stdout",
     "output_type": "stream",
     "text": [
      "699/699 [==============================] - ETA: 0s - loss: 1.5078 - accuracy: 0.5604"
     ]
    },
    {
     "name": "stderr",
     "output_type": "stream",
     "text": [
      "WARNING:absl:Found untraced functions such as _jit_compiled_convolution_op, _jit_compiled_convolution_op, _jit_compiled_convolution_op, _jit_compiled_convolution_op, _jit_compiled_convolution_op while saving (showing 5 of 200). These functions will not be directly callable after loading.\n"
     ]
    },
    {
     "name": "stdout",
     "output_type": "stream",
     "text": [
      "INFO:tensorflow:Assets written to: c:\\Users\\Andreas\\plankton_classification\\models\\densenet\\wandb\\run-20230318_122037-02xdd82k\\files\\model-best\\assets\n"
     ]
    },
    {
     "name": "stderr",
     "output_type": "stream",
     "text": [
      "INFO:tensorflow:Assets written to: c:\\Users\\Andreas\\plankton_classification\\models\\densenet\\wandb\\run-20230318_122037-02xdd82k\\files\\model-best\\assets\n",
      "\u001b[34m\u001b[1mwandb\u001b[0m: Adding directory to artifact (c:\\Users\\Andreas\\plankton_classification\\models\\densenet\\wandb\\run-20230318_122037-02xdd82k\\files\\model-best)... Done. 0.3s\n"
     ]
    },
    {
     "name": "stdout",
     "output_type": "stream",
     "text": [
      "699/699 [==============================] - 263s 360ms/step - loss: 1.5078 - accuracy: 0.5604 - val_loss: 0.9885 - val_accuracy: 0.6552 - lr: 0.0010\n"
     ]
    },
    {
     "data": {
      "text/plain": [
       "<keras.callbacks.History at 0x1ad7f24f5b0>"
      ]
     },
     "execution_count": 5,
     "metadata": {},
     "output_type": "execute_result"
    }
   ],
   "source": [
    "model.fit(train_ds, epochs=cfg.epochs, batch_size=32, verbose=cfg.verbose, validation_data=val_ds, callbacks=callbacks) # train the model"
   ]
  },
  {
   "cell_type": "code",
   "execution_count": 1,
   "id": "9d8b81c6",
   "metadata": {},
   "outputs": [
    {
     "ename": "NameError",
     "evalue": "name 'wandb' is not defined",
     "output_type": "error",
     "traceback": [
      "\u001b[0;31m---------------------------------------------------------------------------\u001b[0m",
      "\u001b[0;31mNameError\u001b[0m                                 Traceback (most recent call last)",
      "Input \u001b[0;32mIn [1]\u001b[0m, in \u001b[0;36m<module>\u001b[0;34m\u001b[0m\n\u001b[0;32m----> 1\u001b[0m \u001b[43mwandb\u001b[49m\u001b[38;5;241m.\u001b[39mfinish()\n",
      "\u001b[0;31mNameError\u001b[0m: name 'wandb' is not defined"
     ]
    }
   ],
   "source": [
    "wandb.finish()"
   ]
  }
 ],
 "metadata": {
  "kernelspec": {
   "display_name": "Python 3 (ipykernel)",
   "language": "python",
   "name": "python3"
  },
  "language_info": {
   "codemirror_mode": {
    "name": "ipython",
    "version": 3
   },
   "file_extension": ".py",
   "mimetype": "text/x-python",
   "name": "python",
   "nbconvert_exporter": "python",
   "pygments_lexer": "ipython3",
   "version": "3.10.12"
  },
  "vscode": {
   "interpreter": {
    "hash": "705981ebfef8414934dd4135383ecdf26fe8fa6933659ee4e9a6df233986ed45"
   }
  }
 },
 "nbformat": 4,
 "nbformat_minor": 5
}
